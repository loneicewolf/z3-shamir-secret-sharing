{
  "nbformat": 4,
  "nbformat_minor": 0,
  "metadata": {
    "colab": {
      "name": "z3-shamir-secret-sharing.ipynb",
      "version": "0.3.2",
      "provenance": []
    },
    "kernelspec": {
      "name": "python3",
      "display_name": "Python 3"
    }
  },
  "cells": [
    {
      "metadata": {
        "id": "v-nPb_dQmluX",
        "colab_type": "code",
        "colab": {}
      },
      "cell_type": "code",
      "source": [
        "!pip install z3-solver"
      ],
      "execution_count": 0,
      "outputs": []
    },
    {
      "metadata": {
        "id": "CX6NfTeIuRVR",
        "colab_type": "code",
        "colab": {}
      },
      "cell_type": "code",
      "source": [
        "import binascii\n",
        "\n",
        "def str_to_int(str):\n",
        "  byts = str.encode(\"utf-8\")\n",
        "  return int(binascii.hexlify(byts), 16)\n",
        "\n",
        "def int_to_str(i):\n",
        "  hx = hex(i)[2:]\n",
        "  secret = binascii.unhexlify(hx)\n",
        "  return secret.decode(\"utf-8\")"
      ],
      "execution_count": 0,
      "outputs": []
    },
    {
      "metadata": {
        "id": "cEFJK3hqzBIw",
        "colab_type": "code",
        "colab": {}
      },
      "cell_type": "code",
      "source": [
        "import random\n",
        "\n",
        "def generate_polynomial_fn(a_vars):\n",
        "  parts = []\n",
        "  for degree in range(len(a_vars)):\n",
        "    # closure on variable d using default parameter (can't use lambda here)\n",
        "    def polynomial_part(x, d=degree):\n",
        "      return a_vars[d] * x**d\n",
        "    parts.append(polynomial_part)  \n",
        "  return lambda x: sum(map(lambda f: f(x), parts))\n",
        "\n",
        "def shamir_split(m, n, secret):\n",
        "  rnds = [int(random.uniform(0, 1) * secret) for _ in range(m - 1)]\n",
        "  fn = generate_polynomial_fn([secret] + rnds)\n",
        "  return [(x, fn(x)) for x in range(1, n + 1)]"
      ],
      "execution_count": 0,
      "outputs": []
    },
    {
      "metadata": {
        "id": "LhHMr-2RI54t",
        "colab_type": "code",
        "colab": {}
      },
      "cell_type": "code",
      "source": [
        "from z3 import *\n",
        "\n",
        "def shamir_resolve(splits):\n",
        "  degree = len(splits)\n",
        "  a = [Int(f'a{i}') for i in range(0, degree)]\n",
        "  solver = Solver()\n",
        "  \n",
        "  for x, y in splits:\n",
        "    p = generate_polynomial_fn(a)\n",
        "    solver.add(y == p(x))\n",
        "    \n",
        "  solver.check()\n",
        "  model = solver.model()\n",
        "  sec_int = model[a[0]].as_long()\n",
        "  return int_to_str(sec_int)"
      ],
      "execution_count": 0,
      "outputs": []
    },
    {
      "metadata": {
        "id": "5CYyGBqAtcYQ",
        "colab_type": "code",
        "colab": {}
      },
      "cell_type": "code",
      "source": [
        "secret = \"this is so secret\"\n",
        "sec_int = str_to_int(secret)\n",
        "assert(int_to_str(sec_int) == secret)"
      ],
      "execution_count": 0,
      "outputs": []
    },
    {
      "metadata": {
        "id": "rgsF-5tQ0dM9",
        "colab_type": "code",
        "outputId": "867b9fe5-efb8-4a88-d8da-fd373b44830c",
        "colab": {
          "base_uri": "https://localhost:8080/",
          "height": 54
        }
      },
      "cell_type": "code",
      "source": [
        "m = 8\n",
        "n = 12\n",
        "splits = shamir_split(m, n, sec_int)\n",
        "assert(len(splits) == n)\n",
        "\n",
        "print(splits)"
      ],
      "execution_count": 6,
      "outputs": [
        {
          "output_type": "stream",
          "text": [
            "[(1, 180650296923632994258640862588913396639092), (2, 2708628690954982489456534789611529708922228), (3, 23215261202103551166156938619912820062578036), (4, 123011153429406964967418404662929110277973364), (5, 477704806284841568037772296231917209747875188), (6, 1497339801462192327152940840182444347026990452), (7, 4013482076460702038787620174022863719633151348), (8, 9548649197441519226288757266552383176218666356), (9, 20683473538194964114621749590982334549270357364), (10, 41536991273496632070156996429496251156496803188), (11, 78375449095130353892964230688204360989061309812), (12, 140365020558856032349082060101448103104819127668)]\n"
          ],
          "name": "stdout"
        }
      ]
    },
    {
      "metadata": {
        "id": "9qA34g-K0fnD",
        "colab_type": "code",
        "outputId": "f15722db-5c51-4b36-eed8-1e5427c07b1e",
        "colab": {
          "base_uri": "https://localhost:8080/",
          "height": 34
        }
      },
      "cell_type": "code",
      "source": [
        "shamir_resolve(splits[3:11])"
      ],
      "execution_count": 7,
      "outputs": [
        {
          "output_type": "execute_result",
          "data": {
            "text/plain": [
              "'this is so secret'"
            ]
          },
          "metadata": {
            "tags": []
          },
          "execution_count": 7
        }
      ]
    }
  ]
}