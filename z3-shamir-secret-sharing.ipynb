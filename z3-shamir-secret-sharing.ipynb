{
  "nbformat": 4,
  "nbformat_minor": 0,
  "metadata": {
    "colab": {
      "name": "Z3_SSS.ipynb",
      "version": "0.3.2",
      "provenance": []
    },
    "kernelspec": {
      "name": "python3",
      "display_name": "Python 3"
    }
  },
  "cells": [
    {
      "metadata": {
        "id": "v-nPb_dQmluX",
        "colab_type": "code",
        "colab": {
          "base_uri": "https://localhost:8080/",
          "height": 34
        },
        "outputId": "43bd2185-b875-4b77-9401-8adbb55713d5"
      },
      "cell_type": "code",
      "source": [
        "!pip install z3-solver"
      ],
      "execution_count": 1,
      "outputs": [
        {
          "output_type": "stream",
          "text": [
            "Requirement already satisfied: z3-solver in /usr/local/lib/python3.6/dist-packages (4.8.0.0.post1)\n"
          ],
          "name": "stdout"
        }
      ]
    },
    {
      "metadata": {
        "id": "EECGB48MpxKj",
        "colab_type": "code",
        "colab": {
          "base_uri": "https://localhost:8080/",
          "height": 34
        },
        "outputId": "c3dc86d5-4229-43f4-f899-ecc34468562c"
      },
      "cell_type": "code",
      "source": [
        "import z3\n",
        "print(z3.get_version_string())"
      ],
      "execution_count": 2,
      "outputs": [
        {
          "output_type": "stream",
          "text": [
            "4.8.0\n"
          ],
          "name": "stdout"
        }
      ]
    },
    {
      "metadata": {
        "id": "CX6NfTeIuRVR",
        "colab_type": "code",
        "colab": {}
      },
      "cell_type": "code",
      "source": [
        "import binascii\n",
        "\n",
        "def str_to_int(str):\n",
        "  byts = str.encode(\"utf-8\")\n",
        "  return int(binascii.hexlify(byts), 16)\n",
        "\n",
        "def int_to_str(i):\n",
        "  hx = hex(i)[2:]\n",
        "  secret = binascii.unhexlify(hx)\n",
        "  return secret.decode(\"utf-8\")"
      ],
      "execution_count": 0,
      "outputs": []
    },
    {
      "metadata": {
        "id": "cEFJK3hqzBIw",
        "colab_type": "code",
        "colab": {}
      },
      "cell_type": "code",
      "source": [
        "import random\n",
        "\n",
        "def shamir_split(m, n, secret):\n",
        "  rnds = [int(random.uniform(0, 1) * secret) for _ in range(m - 1)]\n",
        "  fn = generate_polynomial_fn([secret] + rnds)\n",
        "  return [(x, fn(x)) for x in range(1, n + 1)]\n",
        "  \n",
        "def generate_polynomial_fn(a_vars):\n",
        "  parts = []\n",
        "  for degree in range(len(a_vars)):\n",
        "    # closure on variable d using default parameter (can't use lambda here)\n",
        "    def polynomial_part(x, d=degree):\n",
        "      return a_vars[d] * x**d\n",
        "    parts.append(polynomial_part)  \n",
        "  return lambda x: sum(map(lambda f: f(x), parts))"
      ],
      "execution_count": 0,
      "outputs": []
    },
    {
      "metadata": {
        "id": "LhHMr-2RI54t",
        "colab_type": "code",
        "colab": {}
      },
      "cell_type": "code",
      "source": [
        "from z3 import *\n",
        "\n",
        "def shamir_resolve(splits):\n",
        "  degree = len(splits)\n",
        "  a = [Int(f'a{i}') for i in range(0, degree)]\n",
        "  solver = Solver()\n",
        "  \n",
        "  for x, y in splits:\n",
        "    p = generate_polynomial_fn(a)\n",
        "    solver.add(y == p(x))\n",
        "    \n",
        "  solver.check()\n",
        "  model = solver.model()\n",
        "  sec_int = model[a[0]].as_long()\n",
        "  return int_to_str(sec_int)"
      ],
      "execution_count": 0,
      "outputs": []
    },
    {
      "metadata": {
        "id": "5CYyGBqAtcYQ",
        "colab_type": "code",
        "colab": {}
      },
      "cell_type": "code",
      "source": [
        "secret = \"this is so secret\"\n",
        "sec_int = str_to_int(secret)\n",
        "assert(int_to_str(sec_int) == secret)"
      ],
      "execution_count": 0,
      "outputs": []
    },
    {
      "metadata": {
        "id": "rgsF-5tQ0dM9",
        "colab_type": "code",
        "colab": {
          "base_uri": "https://localhost:8080/",
          "height": 54
        },
        "outputId": "2ee8cf33-3d0e-4b35-8ea0-48dba5c5345c"
      },
      "cell_type": "code",
      "source": [
        "m = 8\n",
        "n = 12\n",
        "splits = shamir_split(m, n, sec_int)\n",
        "assert(len(splits) == n)\n",
        "\n",
        "print(splits)"
      ],
      "execution_count": 7,
      "outputs": [
        {
          "output_type": "stream",
          "text": [
            "[(1, 203684099196012614703441772101570644829556), (2, 6563068433346436688981828537646297761604980), (3, 89969854494472429004150444092329312807708020), (4, 621583368174339462084651752340737666827052404), (5, 2843937020943286176605152928161929389250078068), (6, 9939906607838692814173627283622988831373026676), (7, 28761996556149697161692476351143053238417384820), (8, 72384360627142965332819853806599188204729034100), (9, 163639973573174324712053352415365489666676647284), (10, 339805370252531066386958215184276790087808869748), (11, 658595368704349724394062231902508346490829825396), (12, 1205630193685954139103939482254362887990952486260)]\n"
          ],
          "name": "stdout"
        }
      ]
    },
    {
      "metadata": {
        "id": "9qA34g-K0fnD",
        "colab_type": "code",
        "colab": {
          "base_uri": "https://localhost:8080/",
          "height": 34
        },
        "outputId": "3e2f197d-6b2c-44d9-b3ca-0bb744e921fa"
      },
      "cell_type": "code",
      "source": [
        "shamir_resolve(splits[4:12])"
      ],
      "execution_count": 8,
      "outputs": [
        {
          "output_type": "execute_result",
          "data": {
            "text/plain": [
              "'this is so secret'"
            ]
          },
          "metadata": {
            "tags": []
          },
          "execution_count": 8
        }
      ]
    }
  ]
}